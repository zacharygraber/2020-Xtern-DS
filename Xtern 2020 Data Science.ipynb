{
 "cells": [
  {
   "cell_type": "markdown",
   "metadata": {},
   "source": [
    "# <center>Setting Things Up</center>"
   ]
  },
  {
   "cell_type": "markdown",
   "metadata": {},
   "source": [
    "#### Import libraries and allow inline matplotlib output"
   ]
  },
  {
   "cell_type": "code",
   "execution_count": 48,
   "metadata": {},
   "outputs": [],
   "source": [
    "import numpy as np\n",
    "import matplotlib.pyplot as plt\n",
    "import seaborn as sns\n",
    "import pandas as pd\n",
    "%matplotlib inline"
   ]
  },
  {
   "cell_type": "markdown",
   "metadata": {},
   "source": [
    "#### Read the dataset into a pandas DataFrame"
   ]
  },
  {
   "cell_type": "code",
   "execution_count": 49,
   "metadata": {},
   "outputs": [],
   "source": [
    "data = pd.read_csv(\"dataset.csv\")"
   ]
  },
  {
   "cell_type": "code",
   "execution_count": 50,
   "metadata": {},
   "outputs": [
    {
     "data": {
      "text/html": [
       "<div>\n",
       "<style scoped>\n",
       "    .dataframe tbody tr th:only-of-type {\n",
       "        vertical-align: middle;\n",
       "    }\n",
       "\n",
       "    .dataframe tbody tr th {\n",
       "        vertical-align: top;\n",
       "    }\n",
       "\n",
       "    .dataframe thead th {\n",
       "        text-align: right;\n",
       "    }\n",
       "</style>\n",
       "<table border=\"1\" class=\"dataframe\">\n",
       "  <thead>\n",
       "    <tr style=\"text-align: right;\">\n",
       "      <th></th>\n",
       "      <th>Restaurant</th>\n",
       "      <th>Latitude</th>\n",
       "      <th>Longitude</th>\n",
       "      <th>Cuisines</th>\n",
       "      <th>Average_Cost</th>\n",
       "      <th>Minimum_Order</th>\n",
       "      <th>Rating</th>\n",
       "      <th>Votes</th>\n",
       "      <th>Reviews</th>\n",
       "      <th>Cook_Time</th>\n",
       "    </tr>\n",
       "  </thead>\n",
       "  <tbody>\n",
       "    <tr>\n",
       "      <th>0</th>\n",
       "      <td>ID_6321</td>\n",
       "      <td>39.262605</td>\n",
       "      <td>-85.837372</td>\n",
       "      <td>Fast Food, Rolls, Burger, Salad, Wraps</td>\n",
       "      <td>$20.00</td>\n",
       "      <td>$50.00</td>\n",
       "      <td>3.5</td>\n",
       "      <td>12</td>\n",
       "      <td>4</td>\n",
       "      <td>30 minutes</td>\n",
       "    </tr>\n",
       "    <tr>\n",
       "      <th>1</th>\n",
       "      <td>ID_2882</td>\n",
       "      <td>39.775933</td>\n",
       "      <td>-85.740581</td>\n",
       "      <td>Ice Cream, Desserts</td>\n",
       "      <td>$10.00</td>\n",
       "      <td>$50.00</td>\n",
       "      <td>3.5</td>\n",
       "      <td>11</td>\n",
       "      <td>4</td>\n",
       "      <td>30 minutes</td>\n",
       "    </tr>\n",
       "    <tr>\n",
       "      <th>2</th>\n",
       "      <td>ID_1595</td>\n",
       "      <td>39.253436</td>\n",
       "      <td>-85.123779</td>\n",
       "      <td>Italian, Street Food, Fast Food</td>\n",
       "      <td>$15.00</td>\n",
       "      <td>$50.00</td>\n",
       "      <td>3.6</td>\n",
       "      <td>99</td>\n",
       "      <td>30</td>\n",
       "      <td>65 minutes</td>\n",
       "    </tr>\n",
       "    <tr>\n",
       "      <th>3</th>\n",
       "      <td>ID_5929</td>\n",
       "      <td>39.029841</td>\n",
       "      <td>-85.332050</td>\n",
       "      <td>Mughlai, North Indian, Chinese</td>\n",
       "      <td>$25.00</td>\n",
       "      <td>$99.00</td>\n",
       "      <td>3.7</td>\n",
       "      <td>176</td>\n",
       "      <td>95</td>\n",
       "      <td>30 minutes</td>\n",
       "    </tr>\n",
       "    <tr>\n",
       "      <th>4</th>\n",
       "      <td>ID_6123</td>\n",
       "      <td>39.882284</td>\n",
       "      <td>-85.517407</td>\n",
       "      <td>Cafe, Beverages</td>\n",
       "      <td>$20.00</td>\n",
       "      <td>$99.00</td>\n",
       "      <td>3.2</td>\n",
       "      <td>521</td>\n",
       "      <td>235</td>\n",
       "      <td>65 minutes</td>\n",
       "    </tr>\n",
       "    <tr>\n",
       "      <th>...</th>\n",
       "      <td>...</td>\n",
       "      <td>...</td>\n",
       "      <td>...</td>\n",
       "      <td>...</td>\n",
       "      <td>...</td>\n",
       "      <td>...</td>\n",
       "      <td>...</td>\n",
       "      <td>...</td>\n",
       "      <td>...</td>\n",
       "      <td>...</td>\n",
       "    </tr>\n",
       "    <tr>\n",
       "      <th>2014</th>\n",
       "      <td>ID_4366</td>\n",
       "      <td>39.624978</td>\n",
       "      <td>-85.189212</td>\n",
       "      <td>North Indian, Pizza, Burger, Continental</td>\n",
       "      <td>$40.00</td>\n",
       "      <td>$0.00</td>\n",
       "      <td>-</td>\n",
       "      <td>-</td>\n",
       "      <td>-</td>\n",
       "      <td>30 minutes</td>\n",
       "    </tr>\n",
       "    <tr>\n",
       "      <th>2015</th>\n",
       "      <td>ID_319</td>\n",
       "      <td>39.133719</td>\n",
       "      <td>-85.503020</td>\n",
       "      <td>Awadhi, Bihari</td>\n",
       "      <td>$40.00</td>\n",
       "      <td>$99.00</td>\n",
       "      <td>4.1</td>\n",
       "      <td>118</td>\n",
       "      <td>91</td>\n",
       "      <td>30 minutes</td>\n",
       "    </tr>\n",
       "    <tr>\n",
       "      <th>2016</th>\n",
       "      <td>ID_3104</td>\n",
       "      <td>39.662987</td>\n",
       "      <td>-85.950894</td>\n",
       "      <td>Fast Food, Beverages</td>\n",
       "      <td>$10.00</td>\n",
       "      <td>$50.00</td>\n",
       "      <td>NEW</td>\n",
       "      <td>-</td>\n",
       "      <td>-</td>\n",
       "      <td>30 minutes</td>\n",
       "    </tr>\n",
       "    <tr>\n",
       "      <th>2017</th>\n",
       "      <td>ID_4396</td>\n",
       "      <td>39.301765</td>\n",
       "      <td>-85.662768</td>\n",
       "      <td>Kebab, Fast Food</td>\n",
       "      <td>$10.00</td>\n",
       "      <td>$50.00</td>\n",
       "      <td>-</td>\n",
       "      <td>-</td>\n",
       "      <td>-</td>\n",
       "      <td>30 minutes</td>\n",
       "    </tr>\n",
       "    <tr>\n",
       "      <th>2018</th>\n",
       "      <td>ID_8403</td>\n",
       "      <td>39.460944</td>\n",
       "      <td>-85.484355</td>\n",
       "      <td>Desserts, Beverages</td>\n",
       "      <td>$150.00</td>\n",
       "      <td>$50.00</td>\n",
       "      <td>4.1</td>\n",
       "      <td>271</td>\n",
       "      <td>172</td>\n",
       "      <td>45 minutes</td>\n",
       "    </tr>\n",
       "  </tbody>\n",
       "</table>\n",
       "<p>2019 rows × 10 columns</p>\n",
       "</div>"
      ],
      "text/plain": [
       "     Restaurant   Latitude  Longitude  \\\n",
       "0       ID_6321  39.262605 -85.837372   \n",
       "1       ID_2882  39.775933 -85.740581   \n",
       "2       ID_1595  39.253436 -85.123779   \n",
       "3       ID_5929  39.029841 -85.332050   \n",
       "4       ID_6123  39.882284 -85.517407   \n",
       "...         ...        ...        ...   \n",
       "2014    ID_4366  39.624978 -85.189212   \n",
       "2015     ID_319  39.133719 -85.503020   \n",
       "2016    ID_3104  39.662987 -85.950894   \n",
       "2017    ID_4396  39.301765 -85.662768   \n",
       "2018    ID_8403  39.460944 -85.484355   \n",
       "\n",
       "                                      Cuisines Average_Cost Minimum_Order  \\\n",
       "0       Fast Food, Rolls, Burger, Salad, Wraps       $20.00        $50.00   \n",
       "1                          Ice Cream, Desserts       $10.00        $50.00   \n",
       "2              Italian, Street Food, Fast Food       $15.00        $50.00   \n",
       "3               Mughlai, North Indian, Chinese       $25.00        $99.00   \n",
       "4                              Cafe, Beverages       $20.00        $99.00   \n",
       "...                                        ...          ...           ...   \n",
       "2014  North Indian, Pizza, Burger, Continental       $40.00         $0.00   \n",
       "2015                            Awadhi, Bihari       $40.00        $99.00   \n",
       "2016                      Fast Food, Beverages       $10.00        $50.00   \n",
       "2017                          Kebab, Fast Food       $10.00        $50.00   \n",
       "2018                       Desserts, Beverages      $150.00        $50.00   \n",
       "\n",
       "     Rating Votes Reviews   Cook_Time  \n",
       "0       3.5    12       4  30 minutes  \n",
       "1       3.5    11       4  30 minutes  \n",
       "2       3.6    99      30  65 minutes  \n",
       "3       3.7   176      95  30 minutes  \n",
       "4       3.2   521     235  65 minutes  \n",
       "...     ...   ...     ...         ...  \n",
       "2014      -     -       -  30 minutes  \n",
       "2015    4.1   118      91  30 minutes  \n",
       "2016    NEW     -       -  30 minutes  \n",
       "2017      -     -       -  30 minutes  \n",
       "2018    4.1   271     172  45 minutes  \n",
       "\n",
       "[2019 rows x 10 columns]"
      ]
     },
     "execution_count": 50,
     "metadata": {},
     "output_type": "execute_result"
    }
   ],
   "source": [
    "data"
   ]
  },
  {
   "cell_type": "markdown",
   "metadata": {},
   "source": [
    "#### Sanitizing inputs and converting to a more useful forms"
   ]
  },
  {
   "cell_type": "code",
   "execution_count": 51,
   "metadata": {},
   "outputs": [
    {
     "data": {
      "text/plain": [
       "Latitude              float64\n",
       "Longitude             float64\n",
       "Average_Cost            int16\n",
       "Minimum_Order           int16\n",
       "Rating                float32\n",
       "Votes                   int16\n",
       "Reviews                 int16\n",
       "Cook_Time                int8\n",
       "Number_Of_Cuisines      int64\n",
       "dtype: object"
      ]
     },
     "execution_count": 51,
     "metadata": {},
     "output_type": "execute_result"
    }
   ],
   "source": [
    "# Cleaning up inputs #################\n",
    "dataClean = data[[\"Latitude\", \"Longitude\", \"Average_Cost\", \"Minimum_Order\", \"Rating\", \"Votes\", \"Reviews\", \"Cook_Time\"]]\n",
    "dataClean = dataClean[~dataClean[\"Rating\"].str.contains(\"-\")]\n",
    "dataClean = dataClean[~dataClean[\"Votes\"].str.contains(\"-\")]\n",
    "dataClean = dataClean[~dataClean[\"Reviews\"].str.contains(\"-\")]\n",
    "dataClean = dataClean[~dataClean[\"Rating\"].str.contains(\"NEW\")]\n",
    "dataClean = dataClean[~dataClean[\"Rating\"].str.contains(\"Opening Soon\")]\n",
    "dataClean = dataClean[~dataClean[\"Average_Cost\"].str.contains(\",\")]\n",
    "dataClean[\"Average_Cost\"] = dataClean[\"Average_Cost\"].str.slice(start=1) # Get rid of the $\n",
    "dataClean[\"Minimum_Order\"] = dataClean[\"Minimum_Order\"].str.slice(start=1) # Get rid of the $\n",
    "dataClean[\"Cook_Time\"] = dataClean[\"Cook_Time\"].str.slice(stop=2)\n",
    "dataClean[\"Number_Of_Cuisines\"] = data[\"Cuisines\"].str.count(\",\") + 1 # The number of cuisines offered is no. of commas + 1\n",
    "\n",
    "# Converting data types ##############\n",
    "dataClean[\"Rating\"] = pd.to_numeric(dataClean[\"Rating\"], downcast=\"float\")\n",
    "dataClean[\"Average_Cost\"] = pd.to_numeric(dataClean[\"Average_Cost\"], downcast=\"integer\")\n",
    "dataClean[\"Minimum_Order\"] = pd.to_numeric(dataClean[\"Minimum_Order\"], downcast=\"integer\")\n",
    "dataClean[\"Votes\"] = pd.to_numeric(dataClean[\"Votes\"], downcast=\"integer\")\n",
    "dataClean[\"Reviews\"] = pd.to_numeric(dataClean[\"Reviews\"], downcast=\"integer\")\n",
    "dataClean[\"Cook_Time\"] = pd.to_numeric(dataClean[\"Cook_Time\"], downcast=\"integer\")\n",
    "\n",
    "dataClean.dtypes"
   ]
  },
  {
   "cell_type": "markdown",
   "metadata": {},
   "source": [
    "# <center>Conclusion Number 1</center>\n",
    "-----------------------------------------\n",
    "Below, you will find a simple linear regression model that attemps to predict the rating of a restaurant based on several different criteria."
   ]
  },
  {
   "cell_type": "markdown",
   "metadata": {},
   "source": [
    "#### Make a class to store data and define relevant functions"
   ]
  },
  {
   "cell_type": "code",
   "execution_count": 52,
   "metadata": {},
   "outputs": [],
   "source": [
    "class Restaurant:\n",
    "    def __init__(self, **kwargs):\n",
    "        \"\"\"\n",
    "        Possible kwargs: lat, long, avgCost, minOrder, rating, votes, reviews, cookTime, numCuisines\n",
    "        \"\"\"\n",
    "        self.lat = kwargs[\"lat\"]\n",
    "        self.long = kwargs[\"long\"]\n",
    "        self.avgCost = kwargs[\"avgCost\"]\n",
    "        self.minOrder = kwargs[\"minOrder\"]\n",
    "        self.rating = kwargs[\"rating\"]\n",
    "        self.votes = kwargs[\"votes\"]\n",
    "        self.reviews = kwargs[\"reviews\"]\n",
    "        self.cookTime = kwargs[\"cookTime\"]\n",
    "        self.numCuisines = kwargs[\"numCuisines\"]\n",
    "        \n",
    "    def __str__(self):\n",
    "        return f\"{self.lat}, {self.long}, {self.numCuisines}, {self.avgCost}, {self.minOrder}, {self.votes}, {self.reviews}, {self.cookTime}: {self.rating}\"\n",
    "    \n",
    "    def squaredError(self, predictedRating):\n",
    "        return (self.rating - predictedRating) ** 2\n",
    "\n",
    "# Returns the predicted rating given two vertical vectors as a simple dot product (gives theta_0*x_0 + theta_1*x_1 +...)\n",
    "def hypothesis(thetaVector, featureMatrix):\n",
    "    return np.dot(featureMatrix, thetaVector)\n",
    "\n",
    "def computeCost(thetaVector, featureMatrix, objectList):\n",
    "    return np.sum([objectList[i].squaredError(hypothesis(thetaVector, featureMatrix[i])) for i in range(len(featureMatrix))]) / (2 * len(featureMatrix))\n",
    "\n",
    "# Calculates a new value of theta\n",
    "def gradientDescent(thetaVector, alpha, featureMatrix, expectedMatrix):\n",
    "    m = len(featureMatrix)\n",
    "    hyp = hypothesis(thetaVector, featureMatrix)\n",
    "    loss = hyp - expectedMatrix;\n",
    "    gradient = featureMatrix.T.dot(loss) / m\n",
    "    return thetaVector - (alpha * gradient)"
   ]
  },
  {
   "cell_type": "markdown",
   "metadata": {},
   "source": [
    "#### Convert our data into objects/a numpy array, scale the data, and perform gradient descent"
   ]
  },
  {
   "cell_type": "code",
   "execution_count": 53,
   "metadata": {},
   "outputs": [
    {
     "name": "stdout",
     "output_type": "stream",
     "text": [
      "J(theta): 6.644092398363431\n",
      "J(theta): 281.1109816927111\n"
     ]
    }
   ],
   "source": [
    "features = []\n",
    "restaurants = []\n",
    "for index, row in dataClean.iterrows():\n",
    "    # The 1 is our intercept (bias)\n",
    "    #features += [[1, row[\"Latitude\"], row[\"Longitude\"], row[\"Number_Of_Cuisines\"], row[\"Average_Cost\"], row[\"Minimum_Order\"], row[\"Votes\"], row[\"Reviews\"], row[\"Cook_Time\"]]]\n",
    "    restaurants += [Restaurant(lat=row[\"Latitude\"], long=row[\"Longitude\"], numCuisines=row[\"Number_Of_Cuisines\"], avgCost=row[\"Average_Cost\"], minOrder=row[\"Minimum_Order\"], votes=row[\"Votes\"], reviews=row[\"Reviews\"], cookTime=row[\"Cook_Time\"], rating=row[\"Rating\"])]\n",
    "stds = {\"lat\": np.std([i.lat for i in restaurants]), \"long\": np.std([i.long for i in restaurants]), \"numCuisines\": np.std([i.numCuisines for i in restaurants]), \"avgCost\": np.std([i.avgCost for i in restaurants]), \"minOrder\": np.std([i.minOrder for i in restaurants]), \"votes\": np.std([i.votes for i in restaurants]), \"reviews\": np.std([i.reviews for i in restaurants]), \"cookTime\": np.std([i.cookTime for i in restaurants])}\n",
    "means = {\"lat\": np.mean([i.lat for i in restaurants]), \"long\": np.mean([i.long for i in restaurants]), \"numCuisines\": np.mean([i.numCuisines for i in restaurants]), \"avgCost\": np.mean([i.avgCost for i in restaurants]), \"minOrder\": np.mean([i.minOrder for i in restaurants]), \"votes\": np.mean([i.votes for i in restaurants]), \"reviews\": np.mean([i.reviews for i in restaurants]), \"cookTime\": np.mean([i.cookTime for i in restaurants])}\n",
    "for r in restaurants:\n",
    "    r.lat = (r.lat - means[\"lat\"]) / stds[\"lat\"]\n",
    "    r.long = (r.long - means[\"long\"]) / stds[\"long\"]\n",
    "    r.numCuisines = (r.numCuisines - means[\"numCuisines\"]) / stds[\"numCuisines\"]\n",
    "    r.avgCost = (r.avgCost - means[\"avgCost\"]) / stds[\"avgCost\"]\n",
    "    r.minOrder = (r.minOrder - means[\"minOrder\"]) / stds[\"minOrder\"]\n",
    "    r.votes = (r.votes - means[\"votes\"]) / stds[\"votes\"]\n",
    "    r.reviews = (r.reviews - means[\"reviews\"]) / stds[\"reviews\"]\n",
    "    r.cookTime = (r.cookTime - means[\"cookTime\"]) / stds[\"cookTime\"]\n",
    "    features += [[1, r.lat, r.long, r.numCuisines, r.avgCost, r.minOrder, r.votes, r.reviews, r.cookTime]]\n",
    "\n",
    "features = np.array(features)\n",
    "thetaValues = np.array([[.00001],[.00001],[.00001],[.00001],[.00001],[.00001],[.00001],[.00001],[.00001]])\n",
    "\n",
    "alpha = 1\n",
    "\n",
    "thetaCost = computeCost(thetaValues, features, restaurants)\n",
    "while thetaCost < 100:\n",
    "    thetaCost = computeCost(thetaValues, features, restaurants)\n",
    "    print(\"J(theta): \" + str(thetaCost))\n",
    "    newTheta = gradientDescent(thetaValues, alpha, features, np.array([r.rating for r in restaurants]))\n",
    "    thetaValues = newTheta"
   ]
  },
  {
   "cell_type": "markdown",
   "metadata": {},
   "source": [
    "#### At the moment, this is very broken. It immediately diverges and the cost increases. If I had more time I would split the dataset into training and testing, then test the model, but I just don't have the time to fix it."
   ]
  },
  {
   "cell_type": "markdown",
   "metadata": {},
   "source": [
    "# <center> Conclusion Number 2 </center>\n",
    "----------------------------------\n",
    "    As shown below, it is rare that a restaurant with a high average cost will have a low rating. Although there is not nearly a large enough correlation between the two factors to draw *heavy* conclusions, this data definitely supports that there is at least some correlation between the two. This information could potentially be used to justify pushing higher-cost restauarants at users, since there is a low chance they will be dissatisfied with their food."
   ]
  },
  {
   "cell_type": "markdown",
   "metadata": {},
   "source": [
    "#### Compare Rating to Average Cost"
   ]
  },
  {
   "cell_type": "code",
   "execution_count": 54,
   "metadata": {},
   "outputs": [
    {
     "data": {
      "text/plain": [
       "<matplotlib.axes._subplots.AxesSubplot at 0x28de0878d30>"
      ]
     },
     "execution_count": 54,
     "metadata": {},
     "output_type": "execute_result"
    },
    {
     "data": {
      "image/png": "[encoded data removed]",
      "text/plain": [
       "<Figure size 432x288 with 1 Axes>"
      ]
     },
     "metadata": {
      "needs_background": "light"
     },
     "output_type": "display_data"
    }
   ],
   "source": [
    "sns.regplot(dataClean[\"Average_Cost\"], dataClean[\"Rating\"])"
   ]
  },
  {
   "cell_type": "markdown",
   "metadata": {},
   "source": [
    "# <center>Conclusion Number 3</center>\n",
    "----------------------------------------\n",
    "The variety of food served at a given restaurant does not impact the preparation times. One would think that a restaurant which is less specialized would be able to provide faster service; however, this is not the case (as is clearly supported by the code below)."
   ]
  },
  {
   "cell_type": "markdown",
   "metadata": {},
   "source": [
    "#### Compare number of cuisines offered to cook time"
   ]
  },
  {
   "cell_type": "code",
   "execution_count": 55,
   "metadata": {},
   "outputs": [
    {
     "data": {
      "text/plain": [
       "<matplotlib.axes._subplots.AxesSubplot at 0x28de08dab50>"
      ]
     },
     "execution_count": 55,
     "metadata": {},
     "output_type": "execute_result"
    },
    {
     "data": {
      "image/png": "[encoded data removed]",
      "text/plain": [
       "<Figure size 432x288 with 1 Axes>"
      ]
     },
     "metadata": {
      "needs_background": "light"
     },
     "output_type": "display_data"
    }
   ],
   "source": [
    "sns.regplot(dataClean[\"Number_Of_Cuisines\"], dataClean[\"Cook_Time\"])"
   ]
  },
  {
   "cell_type": "markdown",
   "metadata": {},
   "source": [
    "# <center>Conclusion Number 4</center>\n",
    "---------------------------------------------\n",
    "Although the linear correlation between reviews vs. rating and votes vs. rating is extremely weak, one can clearly see a pattern emerge: a logarithmic-looking curve. This, however, is most likely just a case of overfitting, and a product of most restaurants having a relatively low number of reviews/votes. What this does provide, though, is that restaurants with higher review or vote counts tend around a 4.0 rating, meaning that they are a safe bet when it comes to choice."
   ]
  },
  {
   "cell_type": "markdown",
   "metadata": {},
   "source": [
    "#### Compare number of reviews to rating"
   ]
  },
  {
   "cell_type": "code",
   "execution_count": 56,
   "metadata": {},
   "outputs": [
    {
     "data": {
      "text/plain": [
       "<matplotlib.axes._subplots.AxesSubplot at 0x28de092de20>"
      ]
     },
     "execution_count": 56,
     "metadata": {},
     "output_type": "execute_result"
    },
    {
     "data": {
      "image/png": "[encoded data removed]",
      "text/plain": [
       "<Figure size 432x288 with 1 Axes>"
      ]
     },
     "metadata": {
      "needs_background": "light"
     },
     "output_type": "display_data"
    }
   ],
   "source": [
    "reviews_rating = dataClean[dataClean[\"Reviews\"] < 3000]\n",
    "sns.regplot(reviews_rating[\"Reviews\"], reviews_rating[\"Rating\"])"
   ]
  },
  {
   "cell_type": "code",
   "execution_count": 57,
   "metadata": {},
   "outputs": [
    {
     "data": {
      "text/plain": [
       "<matplotlib.axes._subplots.AxesSubplot at 0x28de0987f10>"
      ]
     },
     "execution_count": 57,
     "metadata": {},
     "output_type": "execute_result"
    },
    {
     "data": {
      "image/png": "[encoded data removed]",
      "text/plain": [
       "<Figure size 432x288 with 1 Axes>"
      ]
     },
     "metadata": {
      "needs_background": "light"
     },
     "output_type": "display_data"
    }
   ],
   "source": [
    "votes_rating = dataClean[dataClean[\"Votes\"] < 3000]\n",
    "sns.regplot(votes_rating[\"Votes\"], votes_rating[\"Rating\"])"
   ]
  }
 ],
 "metadata": {
  "kernelspec": {
   "display_name": "Python 3",
   "language": "python",
   "name": "python3"
  },
  "language_info": {
   "codemirror_mode": {
    "name": "ipython",
    "version": 3
   },
   "file_extension": ".py",
   "mimetype": "text/x-python",
   "name": "python",
   "nbconvert_exporter": "python",
   "pygments_lexer": "ipython3",
   "version": "3.8.3"
  }
 },
 "nbformat": 4,
 "nbformat_minor": 4
}
